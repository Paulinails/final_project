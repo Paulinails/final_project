{
 "cells": [
  {
   "cell_type": "markdown",
   "metadata": {
    "collapsed": true
   },
   "source": [
    "# Capstone Project - The Battle of the Neighborhoods (Week 2)\n",
    "### Applied Data Science Capstone by IBM/Coursera"
   ]
  },
  {
   "cell_type": "markdown",
   "metadata": {},
   "source": [
    "## Table of contents\n",
    "* [Introduction: Business Problem](#introduction)\n",
    "* [Data](#data)\n",
    "* [Methodology](#methodology)\n",
    "* [Analysis](#analysis)\n",
    "* [Conclusion](#conclusion)"
   ]
  },
  {
   "cell_type": "markdown",
   "metadata": {},
   "source": [
    "\n",
    "\n",
    "## Introduction: Business Problem <a name=\"introduction\"></a>"
   ]
  },
  {
   "cell_type": "markdown",
   "metadata": {},
   "source": [
    "In this project we will try to find an optimal location for a shop. Specifically, this report will be targeted to stakeholders interested in opening an **Commerce** in **North York**, Canada.\n",
    "\n",
    "![Map of Neighbourhoods & Communities in Toronto](https://en.healthnexus.ca/sites/en.healthnexus.ca/files/images/main/wellbeingto2.png)\n",
    "\n",
    "Since there are lots of different shops in Toronti we will try to detect **the best location in North York**. We are also particularly interested in **areas with not activities in vicinity**. We would also prefer locations **as close to city center as possible**, assuming that first two conditions are met.\n",
    "\n",
    "We will use our data science powers to generate a few most promissing neighborhoods based on this criteria. Advantages of each area will then be clearly expressed so that best possible final location can be chosen by stakeholders."
   ]
  },
  {
   "cell_type": "markdown",
   "metadata": {},
   "source": [
    "## Data <a name=\"data\"></a>"
   ]
  },
  {
   "cell_type": "markdown",
   "metadata": {},
   "source": [
    "Based on definition of our problem, factors that will influence our decission are:\n",
    "* number of existing shops in the neighborhood (any type)\n",
    "* number of and distance to other shops in the neighborhood, if any\n",
    "* distance of neighborhood from city center\n",
    "\n",
    "We decided to use regularly spaced grid of locations, centered around city center, to define our neighborhoods.\n",
    "\n",
    "Following data sources will be needed to extract/generate the required information:\n",
    "* centers of candidate areas will be generated algorithmically and approximate addresses of centers of those areas will be obtained using **Google Maps API reverse geocoding**\n",
    "* number of restaurants and their type and location in every neighborhood will be obtained using **Foursquare API**\n",
    "* coordinate of Toronto center will be obtained using **Google Maps API geocoding** of well known North York location."
   ]
  },
  {
   "cell_type": "markdown",
   "metadata": {},
   "source": [
    "### Neighborhood Candidates\n",
    "\n",
    "Extracting and cleaning data of the official web page."
   ]
  },
  {
   "cell_type": "code",
   "execution_count": null,
   "metadata": {},
   "outputs": [],
   "source": [
    "url = \"https://en.wikipedia.org/wiki/List_of_postal_codes_of_Canada:_M\"\n",
    "extracting_data = requests.get(url).text\n",
    "wiki_data = BeautifulSoup(extracting_data, 'lxml')\n",
    "\n",
    "column_names = ['Postalcode','Borough','Neighborhood']\n",
    "toronto = pd.DataFrame(columns = column_names)\n",
    "\n",
    "content = wiki_data.find('div', class_='mw-parser-output')\n",
    "table = content.table.tbody\n",
    "postcode = 0\n",
    "borough = 0\n",
    "neighborhood = 0\n",
    "\n",
    "for tr in table.find_all('tr'):\n",
    "    i = 0\n",
    "    for td in tr.find_all('td'):\n",
    "        if i == 0:\n",
    "            postcode = td.text.replace('\\n','')\n",
    "            i = i + 1\n",
    "        elif i == 1:\n",
    "            borough = td.text.replace('\\n','')\n",
    "            i = i + 1\n",
    "        elif i == 2: \n",
    "            neighborhood = td.text.replace('\\n','').replace(']','')\n",
    "    toronto = toronto.append({'Postalcode': postcode,'Borough': borough,'Neighborhood': neighborhood},ignore_index=True)\n",
    "\n",
    "toronto = toronto[toronto.Borough!='Not assigned']\n",
    "toronto = toronto[toronto.Borough!= 0]\n",
    "toronto.reset_index(drop = True, inplace = True)\n",
    "i = 0\n",
    "for i in range(0,toronto.shape[0]):\n",
    "    if toronto.iloc[i][2] == 'Not assigned':\n",
    "        toronto.iloc[i][2] = toronto.iloc[i][1]\n",
    "        i = i+1\n",
    "        \n",
    "df = toronto.groupby(['Postalcode','Borough'])['Neighborhood'].apply(', '.join).reset_index()\n",
    "df.head()\n",
    "\n",
    "df.describe()\n",
    "\n",
    "df = df.dropna()\n",
    "empty = 'Not assigned'\n",
    "df = df[(df.Postalcode != empty ) & (df.Borough != empty) & (df.Neighborhood != empty)]\n",
    "\n",
    "def neighborhood_list(grouped):    \n",
    "    return ', '.join(sorted(grouped['Neighborhood'].tolist()))\n",
    "                    \n",
    "grp = df.groupby(['Postalcode', 'Borough'])\n",
    "df_2 = grp.apply(neighborhood_list).reset_index(name='Neighborhood')\n",
    "\n",
    "def get_latilong(postal_code):\n",
    "    lati_long_coords = None\n",
    "    while(lati_long_coords is None):\n",
    "        g = geocoder.arcgis('{}, Toronto, Ontario'.format(postal_code))\n",
    "        lati_long_coords = g.latlng\n",
    "    return lati_long_coords\n",
    "    \n",
    "get_latilong('M4G')"
   ]
  },
  {
   "cell_type": "markdown",
   "metadata": {},
   "source": [
    "Now let's create a grid of area candidates, equaly spaced, centered around city center and within ~6km from the center of North York. Our neighborhoods will be defined as circular areas with a radius of 300 meters, so our neighborhood centers will be 600 meters apart.\n",
    "\n",
    "To accurately calculate distances we need to create our grid of locations in Cartesian 2D coordinate system which allows us to calculate distances in meters (not in latitude/longitude degrees). Then we'll project those coordinates back to latitude/longitude degrees to be shown on Folium map. So let's create functions to convert between WGS84 spherical coordinate system (latitude/longitude degrees) and UTM Cartesian coordinate system (X/Y coordinates in  meters)."
   ]
  },
  {
   "cell_type": "code",
   "execution_count": null,
   "metadata": {},
   "outputs": [],
   "source": [
    "from shapely.geometry import *\n",
    "import pyproj\n",
    "import math\n",
    "\n",
    "def lonlat_to_xy(lon, lat):\n",
    "    proj_latlon = pyproj.Proj(proj='latlong',datum='WGS84')\n",
    "    proj_xy = pyproj.Proj(proj=\"utm\", zone=33, datum='WGS84')\n",
    "    xy = pyproj.transform(proj_latlon, proj_xy, lon, lat)\n",
    "    return xy[0], xy[1]\n",
    "\n",
    "def xy_to_lonlat(x, y):\n",
    "    proj_latlon = pyproj.Proj(proj='latlong',datum='WGS84')\n",
    "    proj_xy = pyproj.Proj(proj=\"utm\", zone=33, datum='WGS84')\n",
    "    lonlat = pyproj.transform(proj_xy, proj_latlon, x, y)\n",
    "    return lonlat[0], lonlat[1]\n",
    "\n",
    "def calc_xy_distance(x1, y1, x2, y2):\n",
    "    dx = x2 - x1\n",
    "    dy = y2 - y1\n",
    "    return math.sqrt(dx*dx + dy*dy)\n",
    "\n",
    "print('Coordinate transformation check')\n",
    "print('-------------------------------')\n",
    "print('North York center longitude={}, latitude={}'.format(NY[1], NY[0]))\n",
    "x, y = lonlat_to_xy(NY[1], NY[0])\n",
    "print('North York center UTM X={}, Y={}'.format(x, y))\n",
    "lo, la = xy_to_lonlat(x, y)\n",
    "print('North York longitude={}, latitude={}'.format(lo, la))"
   ]
  },
  {
   "cell_type": "markdown",
   "metadata": {},
   "source": [
    "Let's create a **hexagonal grid of cells**: we offset every other row, and adjust vertical row spacing so that **every cell center is equally distant from all it's neighbors**."
   ]
  },
  {
   "cell_type": "code",
   "execution_count": null,
   "metadata": {},
   "outputs": [],
   "source": [
    "NY_x, NY_y = lonlat_to_xy(NY[1], NY[0]) # City center in Cartesian coordinates\n",
    "\n",
    "k = math.sqrt(3) / 2 # Vertical offset for hexagonal grid cells\n",
    "x_min = NY_x - 6000\n",
    "x_step = 600\n",
    "y_min = NY_y - 6000 - (int(21/k)*k*600 - 12000)/2\n",
    "y_step = 600 * k \n",
    "\n",
    "latitudes = []\n",
    "longitudes = []\n",
    "distances_from_center = []\n",
    "xs = []\n",
    "ys = []\n",
    "for i in range(0, int(21/k)):\n",
    "    y = y_min + i * y_step\n",
    "    x_offset = 300 if i%2==0 else 0\n",
    "    for j in range(0, 21):\n",
    "        x = x_min + j * x_step + x_offset\n",
    "        distance_from_center = calc_xy_distance(NY_x, NY_y, x, y)\n",
    "        if (distance_from_center <= 6001):\n",
    "            lon, lat = xy_to_lonlat(x, y)\n",
    "            latitudes.append(lat)\n",
    "            longitudes.append(lon)\n",
    "            distances_from_center.append(distance_from_center)\n",
    "            xs.append(x)\n",
    "            ys.append(y)\n",
    "\n",
    "print(len(latitudes), 'candidate neighborhood centers generated.')"
   ]
  },
  {
   "cell_type": "markdown",
   "metadata": {},
   "source": [
    "Let's visualize the data we have so far: city center location and candidate neighborhood centers:"
   ]
  },
  {
   "cell_type": "code",
   "execution_count": null,
   "metadata": {},
   "outputs": [],
   "source": [
    "#!pip install folium\n",
    "\n",
    "import folium"
   ]
  },
  {
   "cell_type": "code",
   "execution_count": null,
   "metadata": {},
   "outputs": [],
   "source": [
    "map_NY = folium.Map(location=NY, zoom_start=13)\n",
    "folium.Marker(NY, popup='North York').add_to(map_NY)\n",
    "for lat, lon in zip(latitudes, longitudes):\n",
    "    #folium.CircleMarker([lat, lon], radius=2, color='blue', fill=True, fill_color='blue', fill_opacity=1).add_to(map_berlin) \n",
    "    folium.Circle([lat, lon], radius=300, color='blue', fill=False).add_to(map_NY)\n",
    "    #folium.Marker([lat, lon]).add_to(map_berlin)\n",
    "map_NY"
   ]
  },
  {
   "cell_type": "markdown",
   "metadata": {},
   "source": [
    "OK, we now have the coordinates of centers of neighborhoods/areas to be evaluated, equally spaced (distance from every point to it's neighbors is exactly the same) and within ~6km from North York. \n",
    "\n",
    "Let's now use Google Maps API to get approximate addresses of those locations."
   ]
  },
  {
   "cell_type": "code",
   "execution_count": null,
   "metadata": {
    "scrolled": true
   },
   "outputs": [],
   "source": [
    "\n",
    "def get_address(api_key, latitude, longitude, verbose=False):\n",
    "    try:\n",
    "        url = 'https://maps.googleapis.com/maps/api/geocode/json?key={}&latlng={},{}'.format(api_key, latitude, longitude)\n",
    "        response = requests.get(url).json()\n",
    "        if verbose:\n",
    "            print('Google Maps API JSON result =>', response)\n",
    "        results = response['results']\n",
    "        address = results[0]['formatted_address']\n",
    "        return address\n",
    "    except:\n",
    "        return None\n",
    "\n",
    "addr = get_address(google_api_key, NY[0], NY[1])\n",
    "print('Reverse geocoding check')\n",
    "print('-----------------------')\n",
    "print('Address of [{}, {}] is: {}'.format(NY[0], NY[1], addr))"
   ]
  },
  {
   "cell_type": "code",
   "execution_count": null,
   "metadata": {},
   "outputs": [],
   "source": [
    "print('Obtaining location addresses: ', end='')\n",
    "addresses = []\n",
    "for lat, lon in zip(latitudes, longitudes):\n",
    "    address = get_address(google_api_key, lat, lon)\n",
    "    if address is None:\n",
    "        address = 'NO ADDRESS'\n",
    "    address = address.replace(', Canada', '') # We don't need country part of address\n",
    "    addresses.append(address)\n",
    "    print(' .', end='')\n",
    "print(' done.')"
   ]
  },
  {
   "cell_type": "code",
   "execution_count": null,
   "metadata": {},
   "outputs": [],
   "source": [
    "addresses[150:170]"
   ]
  },
  {
   "cell_type": "markdown",
   "metadata": {},
   "source": [
    "Looking good. Let's now place all this into a Pandas dataframe."
   ]
  },
  {
   "cell_type": "code",
   "execution_count": null,
   "metadata": {},
   "outputs": [],
   "source": [
    "import pandas as pd\n",
    "\n",
    "df_locations = pd.DataFrame({'Address': addresses,\n",
    "                             'Latitude': latitudes,\n",
    "                             'Longitude': longitudes,\n",
    "                             'X': xs,\n",
    "                             'Y': ys,\n",
    "                             'Distance from center': distances_from_center})\n",
    "\n",
    "df_locations.head(10)"
   ]
  },
  {
   "cell_type": "markdown",
   "metadata": {},
   "source": [
    "...and let's now save/persist this data into local file."
   ]
  },
  {
   "cell_type": "code",
   "execution_count": null,
   "metadata": {},
   "outputs": [],
   "source": [
    "df_locations.to_pickle('./locations.pkl')    "
   ]
  },
  {
   "cell_type": "markdown",
   "metadata": {},
   "source": [
    "### Foursquare\n",
    "Now that we have our location candidates, let's use Foursquare API to get info on restaurants in each neighborhood.\n",
    "\n",
    "We're interested in venues in 'store' category. So we will include in out list only venues that have 'store' in category name."
   ]
  },
  {
   "cell_type": "markdown",
   "metadata": {},
   "source": [
    "Foursquare credentials are defined in hidden cell bellow."
   ]
  },
  {
   "cell_type": "code",
   "execution_count": null,
   "metadata": {},
   "outputs": [],
   "source": [
    "# The code was removed by Watson Studio for sharing."
   ]
  },
  {
   "cell_type": "code",
   "execution_count": null,
   "metadata": {},
   "outputs": [],
   "source": [
    "# Category IDs corresponding to Stores (https://developer.foursquare.com/docs/resources/categories):\n",
    "\n",
    "food_category = '4d954b0ea243a5684a65b473' # 'Root' category for Convenience Store\n",
    "\n",
    "store_categories = ['4bf58dd8d48988d103951735', '4bf58dd8d48988d114951735', '5745c2e4498e11e7bccabdbd', '4bf58dd8d48988d1f9941735'\n",
    "                   '52f2ab2ebcbc57f1066b8b1c', '4bf58dd8d48988d111951735', '4bf58dd8d48988d100951735', '4bf58dd8d48988d163941735']\n",
    "\n",
    "def is_store(categories, specific_filter=None):\n",
    "    store_words = ['store', 'park', 'clothes', 'convenience']\n",
    "    store = False\n",
    "    specific = False\n",
    "    for c in categories:\n",
    "        category_name = c[0].lower()\n",
    "        category_id = c[1]\n",
    "        for r in rstore_words:\n",
    "            if r in category_name:\n",
    "                store = True\n",
    "        if 'park' in category_name:\n",
    "            store = False\n",
    "        if not(specific_filter is None) and (category_id in specific_filter):\n",
    "            specific = True\n",
    "            store = True\n",
    "    return store, specific\n",
    "\n",
    "def get_categories(categories):\n",
    "    return [(cat['name'], cat['id']) for cat in categories]\n",
    "\n",
    "def format_address(location):\n",
    "    address = ', '.join(location['formattedAddress'])\n",
    "    address = address.replace(', Canada', '')\n",
    "    address = address.replace(', Canada', '')\n",
    "    return address\n",
    "\n",
    "def get_venues_near_location(lat, lon, category, CLIENT_ID, CLIENT_SECRET, radius=500, limit=100):\n",
    "    version = '20180724'\n",
    "    url = 'https://api.foursquare.com/v2/venues/explore?client_id={}&client_secret={}&v={}&ll={},{}&categoryId={}&radius={}&limit={}'.format(\n",
    "        CLIENT_ID, CLIENT_SECRET, VERSION, lat, lon, category, radius, limit)\n",
    "    try:\n",
    "        results = requests.get(url).json()['response']['groups'][0]['items']\n",
    "        venues = [(item['venue']['id'],\n",
    "                   item['venue']['name'],\n",
    "                   get_categories(item['venue']['categories']),\n",
    "                   (item['venue']['location']['lat'], item['venue']['location']['lng']),\n",
    "                   format_address(item['venue']['location']),\n",
    "                   item['venue']['location']['distance']) for item in results]        \n",
    "    except:\n",
    "        venues = []\n",
    "    return venues"
   ]
  },
  {
   "cell_type": "markdown",
   "metadata": {},
   "source": [
    "Looking good. So now we have all the shopsin area within few kilometers from North York. We also know which restaurants exactly are in vicinity of every neighborhood candidate center.\n",
    "\n",
    "This concludes the data gathering phase - we're now ready to use this data for analysis to produce the report on optimal locations for a new Italian restaurant!"
   ]
  },
  {
   "cell_type": "markdown",
   "metadata": {},
   "source": [
    "## Methodology <a name=\"methodology\"></a>"
   ]
  },
  {
   "cell_type": "markdown",
   "metadata": {},
   "source": [
    "In this project we will direct our efforts on detecting areas of North York that have low store density. We will limit our analysis to area ~6km around city center.\n",
    "\n",
    "In first step we have collected the required **data: location and type (category) of every store within 6km from North York center**. We have also **identified different stores** (according to Foursquare categorization).\n",
    "\n",
    "Second step in our analysis will be calculation and exploration of '**store density**' across different areas of Toronto - we will use **heatmaps** to identify a few promising areas close to center with low number of restaurants in general and focus our attention on those areas.\n",
    "\n",
    "In third and final step we will focus on most promising areas and within those create **clusters of locations that meet some basic requirements** established in discussion with stakeholders: we will take into consideration locations with **no more than two store in radius of 500 meters**. We will present map of all such locations but also create clusters (using **k-means clustering**) of those locations to identify general zones / neighborhoods / addresses which should be a starting point for final 'street level' exploration and search for optimal venue location by stakeholders."
   ]
  },
  {
   "cell_type": "markdown",
   "metadata": {},
   "source": [
    "## Analysis <a name=\"analysis\"></a>"
   ]
  },
  {
   "cell_type": "markdown",
   "metadata": {},
   "source": [
    "Let's perform some basic explanatory data analysis and derive some additional info from our raw data. First let's count the **number of likes in the venue** after that is necessary create new categories for k-means analysis:"
   ]
  },
  {
   "cell_type": "code",
   "execution_count": null,
   "metadata": {},
   "outputs": [],
   "source": [
    "venues = results['response']['groups'][0]['items']\n",
    "nearby_venues = json_normalize(venues)\n",
    "filtered_columns = ['venue.name', 'venue.id', 'venue.categories', 'venue.location.lat', 'venue.location.lng']\n",
    "nearby_venues\n",
    "nearby_venues =nearby_venues.loc[:, filtered_columns]\n",
    "\n",
    "# filter the category for each row\n",
    "nearby_venues['venue.categories'] = nearby_venues.apply(get_category_type, axis=1)\n",
    "\n",
    "nearby_venues\n",
    "\n",
    "#column formatting\n",
    "nearby_venues.columns = [col.split(\".\")[-1] for col in nearby_venues.columns]\n",
    "\n",
    "nearby_venues"
   ]
  },
  {
   "cell_type": "markdown",
   "metadata": {},
   "source": [
    "Then is necessary creating a list of categorie to remove from our dataframe because they are not store"
   ]
  },
  {
   "cell_type": "code",
   "execution_count": null,
   "metadata": {},
   "outputs": [],
   "source": [
    "removal_list = ['Seafood Restaurant', 'Steakhouse', 'Café', 'Ramen Restaurant', 'Movie Theater', 'Creperie', 'Sushi Restaurant', 'Korean Restaurant', 'Theater', 'Arts & Crafts Store',\n",
    "       'Japanese Restaurant', 'Bakery', 'Juice Bar', 'Sports Bar', 'Pizza Place', 'Restaurant', 'Fast Food Restaurant', 'Fried Chicken Joint', 'Pool',\n",
    "       'Dumpling Restaurant', 'Lounge', 'Sandwich Place','Gym', 'American Restaurant', 'Burger Joint', 'Discount Store', 'Middle Eastern Restaurant',\n",
    "       'Chinese Restaurant', 'Bar', 'Bank', 'Wings Joint','Italian Restaurant', 'Vietnamese Restaurant', 'Karaoke Bar', 'Hotel', 'Noodle House', 'Pub', 'Udon Restaurant']\n",
    "\n",
    "#getting a clear dataframe of just store\n",
    "nearby_venues2 = nearby_venues2[~nearby_venues2['categories'].isin(removal_list)]\n",
    "nearby_venues2"
   ]
  },
  {
   "cell_type": "markdown",
   "metadata": {},
   "source": [
    "OK, now let's continue with the analysis. Here is possible to see how classify the data about the Like with API of Foursquare"
   ]
  },
  {
   "cell_type": "code",
   "execution_count": null,
   "metadata": {},
   "outputs": [],
   "source": [
    "to_venues['total likes'] = like_list\n",
    "to_venues.head()"
   ]
  },
  {
   "cell_type": "code",
   "execution_count": null,
   "metadata": {},
   "outputs": [],
   "source": [
    "import matplotlib.pyplot as plt\n",
    "to_venues['total likes'].hist(bins=4)\n",
    "plt.show()"
   ]
  },
  {
   "cell_type": "code",
   "execution_count": null,
   "metadata": {},
   "outputs": [],
   "source": [
    "to_venues"
   ]
  },
  {
   "cell_type": "markdown",
   "metadata": {},
   "source": [
    "OK, let's create our new categories and create a function to apply those to our existing data and apply K-means."
   ]
  },
  {
   "cell_type": "code",
   "execution_count": null,
   "metadata": {},
   "outputs": [],
   "source": [
    "Groceries = ['Grocery Store', 'Supermarket', 'Bar', 'Dive Bar', 'Sports Bar']\n",
    "other = ['Shopping Mall', 'Electronics Store', 'Pet Store']\n",
    "Food_store = ['Coffee Shop', 'Bubble Tea Shop','Ice Cream Shop', 'Dessert Shop']\n",
    "Plaza = ['Plaza']\n",
    "Pharmacy = ['Pharmacy']\n",
    "\n",
    "def conditions2(s):\n",
    "    if s['categories'] in Groceries:\n",
    "        return 'Groceries'\n",
    "    if s['categories'] in other:\n",
    "        return 'other'\n",
    "    if s['categories'] in Food_store:\n",
    "        return 'Food_store'\n",
    "    if s['categories'] in Plaza:\n",
    "        return 'Plaza'\n",
    "    if s['categories'] in Pharmacy:\n",
    "        return 'Pharmacy'\n",
    "\n",
    "to_venues['categories_new']=to_venues.apply(conditions2, axis=1)"
   ]
  },
  {
   "cell_type": "code",
   "execution_count": null,
   "metadata": {},
   "outputs": [],
   "source": [
    "cluster_df = to_onehot.drop('Name', axis=1)\n",
    "\n",
    "k_clusters = 4\n",
    "\n",
    "# run k-means clustering\n",
    "kmeans = KMeans(n_clusters=k_clusters, random_state=0).fit(cluster_df)\n",
    "\n",
    "# check cluster labels generated for each row in the dataframe\n",
    "kmeans.labels_[0:10]"
   ]
  },
  {
   "cell_type": "code",
   "execution_count": null,
   "metadata": {},
   "outputs": [],
   "source": [
    "to_venues['label'] = kmeans.labels_\n",
    "to_venues.head()"
   ]
  },
  {
   "cell_type": "code",
   "execution_count": null,
   "metadata": {},
   "outputs": [],
   "source": [
    "map_clusters = folium.Map(location=[43.77, -79.41], zoom_start=14)\n",
    "\n",
    "# set color scheme for the clusters\n",
    "x = np.arange(k_clusters)\n",
    "ys = [i+x+(i*x)**2 for i in range(k_clusters)]\n",
    "colors_array = cm.rainbow(np.linspace(0, 100, len(ys)*80))\n",
    "rainbow = [colors.rgb2hex(i) for i in colors_array]\n",
    "\n",
    "# add markers to the map\n",
    "markers_colors = []\n",
    "for lat, lon, poi, cluster in zip(to_venues['lat'], to_venues['lng'], to_venues['name'], to_venues['label']):\n",
    "    label = folium.Popup(str(poi) + ' Cluster ' + str(cluster), parse_html=True)\n",
    "    folium.CircleMarker(\n",
    "        [lat, lon],\n",
    "        radius=5,\n",
    "        popup=label,\n",
    "        color=rainbow[cluster-1],\n",
    "        fill=True,\n",
    "        fill_color=rainbow[cluster-1],\n",
    "        fill_opacity=0.9).add_to(map_clusters)\n",
    "       \n",
    "map_clusters"
   ]
  },
  {
   "cell_type": "markdown",
   "metadata": {},
   "source": [
    "## Conclusion <a name=\"conclusion\"></a>"
   ]
  },
  {
   "cell_type": "markdown",
   "metadata": {},
   "source": [
    "Our analysis shows that although there is a lot of number of store in North of York. Highest concentration of store was detected in one of the principal avenue of the city, so we focused our attention this area, also becaus eir near to big place like the Cementery and a lot of parks. \n",
    "\n",
    "After directing our attention to this more narrow area of interest we first created a dense grid of location candidates (spaced 100m appart); those locations were then filtered so that those with more than two store in radius of 500m.\n",
    "\n",
    "Those location candidates were then clustered to create zones of interest which contain greatest number of location candidates. Addresses of centers of those zones were also generated using reverse geocoding to be used as markers/starting points for more detailed local analysis based on other factors.\n"
   ]
  },
  {
   "cell_type": "raw",
   "metadata": {},
   "source": [
    "Purpose of this project was to identify North York areas close to center with low number of stores(particularly Convenience Stores) in order to aid stakeholders in narrowing down the search for optimal location for a commercial center. By calculating store density distribution from Foursquare data we have first identified general boroughs that justify further analysis, and then generated extensive collection of locations which satisfy some basic requirements regarding existing nearby restaurants. Clustering of those locations was then performed in order to create major zones of interest (containing greatest number of potential locations) and addresses of those zone centers were created to be used as starting points for final exploration by stakeholders.\n",
    "\n",
    "Final decission on optimal store location will be made by stakeholders based on specific characteristics of neighborhoods and locations in every recommended zone, taking into consideration additional factors like attractiveness of each location (proximity to park or water), levels of noise / proximity to major roads, real estate availability, prices, social and economic dynamics of every neighborhood etc."
   ]
  },
  {
   "cell_type": "code",
   "execution_count": null,
   "metadata": {},
   "outputs": [],
   "source": []
  }
 ],
 "metadata": {
  "kernelspec": {
   "display_name": "Python 3",
   "language": "python",
   "name": "python3"
  },
  "language_info": {
   "codemirror_mode": {
    "name": "ipython",
    "version": 3
   },
   "file_extension": ".py",
   "mimetype": "text/x-python",
   "name": "python",
   "nbconvert_exporter": "python",
   "pygments_lexer": "ipython3",
   "version": "3.7.6"
  }
 },
 "nbformat": 4,
 "nbformat_minor": 1
}
